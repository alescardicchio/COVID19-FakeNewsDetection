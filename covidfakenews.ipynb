{
 "cells": [
  {
   "cell_type": "code",
   "execution_count": 421,
   "metadata": {},
   "outputs": [],
   "source": [
    "# import librerie\n",
    "import pandas as pd\n",
    "import numpy as np\n",
    "import matplotlib.pyplot as plt"
   ]
  },
  {
   "cell_type": "code",
   "execution_count": 422,
   "metadata": {},
   "outputs": [],
   "source": [
    "# import dataset\n",
    "dataset1 = pd.read_csv(\"./dataset/corona_fake.csv\")\n",
    "dataset2_real = pd.read_csv(\"./dataset/realnews.csv\")\n",
    "dataset2_fake = pd.read_csv(\"./dataset/fakenews.csv\")"
   ]
  },
  {
   "cell_type": "code",
   "execution_count": 423,
   "metadata": {},
   "outputs": [
    {
     "name": "stdout",
     "output_type": "stream",
     "text": [
      "<class 'pandas.core.frame.DataFrame'>\n",
      "RangeIndex: 1164 entries, 0 to 1163\n",
      "Data columns (total 4 columns):\n",
      " #   Column  Non-Null Count  Dtype \n",
      "---  ------  --------------  ----- \n",
      " 0   title   1082 non-null   object\n",
      " 1   text    1154 non-null   object\n",
      " 2   source  1144 non-null   object\n",
      " 3   label   1159 non-null   object\n",
      "dtypes: object(4)\n",
      "memory usage: 36.5+ KB\n"
     ]
    }
   ],
   "source": [
    "dataset1.info()"
   ]
  },
  {
   "cell_type": "code",
   "execution_count": 424,
   "metadata": {},
   "outputs": [
    {
     "name": "stdout",
     "output_type": "stream",
     "text": [
      "<class 'pandas.core.frame.DataFrame'>\n",
      "RangeIndex: 925 entries, 0 to 924\n",
      "Data columns (total 16 columns):\n",
      " #   Column          Non-Null Count  Dtype \n",
      "---  ------          --------------  ----- \n",
      " 0   Unnamed: 0      925 non-null    int64 \n",
      " 1   Unnamed: 0.1    925 non-null    int64 \n",
      " 2   type            885 non-null    object\n",
      " 3   fact_check_url  925 non-null    object\n",
      " 4   archive         377 non-null    object\n",
      " 5   news_url        885 non-null    object\n",
      " 6   news_url2       93 non-null     object\n",
      " 7   news_url3       60 non-null     object\n",
      " 8   news_url4       34 non-null     object\n",
      " 9   news_url5       15 non-null     object\n",
      " 10  title           925 non-null    object\n",
      " 11  newstitle       467 non-null    object\n",
      " 12  content         416 non-null    object\n",
      " 13  abstract        269 non-null    object\n",
      " 14  publish_date    145 non-null    object\n",
      " 15  meta_keywords   467 non-null    object\n",
      "dtypes: int64(2), object(14)\n",
      "memory usage: 115.8+ KB\n"
     ]
    }
   ],
   "source": [
    "dataset2_fake.info()"
   ]
  },
  {
   "cell_type": "code",
   "execution_count": 425,
   "metadata": {},
   "outputs": [
    {
     "name": "stdout",
     "output_type": "stream",
     "text": [
      "<class 'pandas.core.frame.DataFrame'>\n",
      "RangeIndex: 4532 entries, 0 to 4531\n",
      "Data columns (total 11 columns):\n",
      " #   Column          Non-Null Count  Dtype \n",
      "---  ------          --------------  ----- \n",
      " 0   Unnamed: 0      4532 non-null   int64 \n",
      " 1   Unnamed: 0.1    4532 non-null   int64 \n",
      " 2   type            4529 non-null   object\n",
      " 3   fact_check_url  4532 non-null   object\n",
      " 4   news_url        4529 non-null   object\n",
      " 5   title           4532 non-null   object\n",
      " 6   newstitle       4508 non-null   object\n",
      " 7   content         4024 non-null   object\n",
      " 8   abstract        2847 non-null   object\n",
      " 9   publish_date    1036 non-null   object\n",
      " 10  meta_keywords   4508 non-null   object\n",
      "dtypes: int64(2), object(9)\n",
      "memory usage: 389.6+ KB\n"
     ]
    }
   ],
   "source": [
    "dataset2_real.info()"
   ]
  },
  {
   "cell_type": "code",
   "execution_count": 426,
   "metadata": {},
   "outputs": [],
   "source": [
    "# eliminazione colonne ridondanti del primo dataset, rinominazione della colonna 'text' in 'content' e conversione in minuscolo delle label\n",
    "dataset1 = dataset1[['title', 'text', 'label']].rename(columns={'text': 'content'})\n",
    "dataset1['label'] = dataset1['label'].str.lower()\n",
    "\n",
    "# eliminazione colonne ridondanti del secondo dataset ed aggiunta di 'true' e 'false' per le real news e fake news rispettivamente\n",
    "dataset2_fake = dataset2_fake[['title', 'content']]\n",
    "dataset2_fake['label'] = 'false'\n",
    "dataset2_real = dataset2_real[['title', 'content']]\n",
    "dataset2_real['label'] = 'true'\n",
    "\n",
    "# concatenazione dei due dataset in un unico dataset\n",
    "dataset = dataset1.append(dataset2_real).append(dataset2_fake)"
   ]
  },
  {
   "cell_type": "code",
   "execution_count": 427,
   "metadata": {},
   "outputs": [
    {
     "name": "stdout",
     "output_type": "stream",
     "text": [
      "<class 'pandas.core.frame.DataFrame'>\n",
      "Int64Index: 6621 entries, 0 to 924\n",
      "Data columns (total 3 columns):\n",
      " #   Column   Non-Null Count  Dtype \n",
      "---  ------   --------------  ----- \n",
      " 0   title    6539 non-null   object\n",
      " 1   content  5594 non-null   object\n",
      " 2   label    6616 non-null   object\n",
      "dtypes: object(3)\n",
      "memory usage: 206.9+ KB\n"
     ]
    }
   ],
   "source": [
    "dataset.info()"
   ]
  },
  {
   "cell_type": "code",
   "execution_count": 428,
   "metadata": {},
   "outputs": [
    {
     "data": {
      "text/plain": [
       "title        82\n",
       "content    1027\n",
       "label         5\n",
       "dtype: int64"
      ]
     },
     "execution_count": 428,
     "metadata": {},
     "output_type": "execute_result"
    }
   ],
   "source": [
    "# check presenza valori nulli\n",
    "dataset.isnull().sum()"
   ]
  },
  {
   "cell_type": "code",
   "execution_count": 429,
   "metadata": {},
   "outputs": [],
   "source": [
    "# eliminazione rows in cui compaiono valori nulli\n",
    "dataset.dropna(inplace=True)"
   ]
  },
  {
   "cell_type": "code",
   "execution_count": 430,
   "metadata": {},
   "outputs": [
    {
     "name": "stdout",
     "output_type": "stream",
     "text": [
      "<class 'pandas.core.frame.DataFrame'>\n",
      "Int64Index: 5509 entries, 0 to 924\n",
      "Data columns (total 3 columns):\n",
      " #   Column   Non-Null Count  Dtype \n",
      "---  ------   --------------  ----- \n",
      " 0   title    5509 non-null   object\n",
      " 1   content  5509 non-null   object\n",
      " 2   label    5509 non-null   object\n",
      "dtypes: object(3)\n",
      "memory usage: 172.2+ KB\n"
     ]
    }
   ],
   "source": [
    "dataset.info()"
   ]
  },
  {
   "cell_type": "code",
   "execution_count": 431,
   "metadata": {},
   "outputs": [],
   "source": [
    "# combinazione delle colonne 'title' e 'content' in un'unica colonna 'title_content'\n",
    "dataset['title_content'] = dataset['title'] + dataset['content']\n",
    "dataset = dataset[['title_content', 'label']]"
   ]
  },
  {
   "cell_type": "code",
   "execution_count": 432,
   "metadata": {},
   "outputs": [],
   "source": [
    "# eliminazione rows in cui compaiono valori duplicati\n",
    "dataset.drop_duplicates(inplace=True)"
   ]
  },
  {
   "cell_type": "code",
   "execution_count": 433,
   "metadata": {},
   "outputs": [],
   "source": [
    "# sostituzione di 'true' con 1 e 'false' con 0 nella colonna label\n",
    "dataset['label'].replace('true', 1, inplace=True)\n",
    "dataset['label'].replace('false', 0, inplace=True)"
   ]
  },
  {
   "cell_type": "code",
   "execution_count": 434,
   "metadata": {},
   "outputs": [
    {
     "data": {
      "text/html": [
       "<div>\n",
       "<style scoped>\n",
       "    .dataframe tbody tr th:only-of-type {\n",
       "        vertical-align: middle;\n",
       "    }\n",
       "\n",
       "    .dataframe tbody tr th {\n",
       "        vertical-align: top;\n",
       "    }\n",
       "\n",
       "    .dataframe thead th {\n",
       "        text-align: right;\n",
       "    }\n",
       "</style>\n",
       "<table border=\"1\" class=\"dataframe\">\n",
       "  <thead>\n",
       "    <tr style=\"text-align: right;\">\n",
       "      <th></th>\n",
       "      <th>title_content</th>\n",
       "      <th>label</th>\n",
       "    </tr>\n",
       "  </thead>\n",
       "  <tbody>\n",
       "    <tr>\n",
       "      <th>1523</th>\n",
       "      <td>\"WHO and Rakuten Viber fight COVID-19 misinfor...</td>\n",
       "      <td>1</td>\n",
       "    </tr>\n",
       "    <tr>\n",
       "      <th>2742</th>\n",
       "      <td>How a Housing Crisis Could Make COVID-19 Even ...</td>\n",
       "      <td>1</td>\n",
       "    </tr>\n",
       "    <tr>\n",
       "      <th>3978</th>\n",
       "      <td>Four U.S. Counties Remain COVID-freethis websi...</td>\n",
       "      <td>1</td>\n",
       "    </tr>\n",
       "    <tr>\n",
       "      <th>3676</th>\n",
       "      <td>The Red Flags That Alarm Experts as COVID-19 V...</td>\n",
       "      <td>1</td>\n",
       "    </tr>\n",
       "    <tr>\n",
       "      <th>4412</th>\n",
       "      <td>Implementing Filtering Facepiece Respirator (F...</td>\n",
       "      <td>1</td>\n",
       "    </tr>\n",
       "  </tbody>\n",
       "</table>\n",
       "</div>"
      ],
      "text/plain": [
       "                                          title_content label\n",
       "1523  \"WHO and Rakuten Viber fight COVID-19 misinfor...     1\n",
       "2742  How a Housing Crisis Could Make COVID-19 Even ...     1\n",
       "3978  Four U.S. Counties Remain COVID-freethis websi...     1\n",
       "3676  The Red Flags That Alarm Experts as COVID-19 V...     1\n",
       "4412  Implementing Filtering Facepiece Respirator (F...     1"
      ]
     },
     "execution_count": 434,
     "metadata": {},
     "output_type": "execute_result"
    }
   ],
   "source": [
    "dataset.sample(5)"
   ]
  }
 ],
 "metadata": {
  "interpreter": {
   "hash": "229ec3f2be34d1c2a4a92117be2cab0262b83750a13adfba0c371deb50626d86"
  },
  "kernelspec": {
   "display_name": "Python 3.7.10 ('DeepLeaning_env')",
   "language": "python",
   "name": "python3"
  },
  "language_info": {
   "codemirror_mode": {
    "name": "ipython",
    "version": 3
   },
   "file_extension": ".py",
   "mimetype": "text/x-python",
   "name": "python",
   "nbconvert_exporter": "python",
   "pygments_lexer": "ipython3",
   "version": "3.7.10"
  },
  "orig_nbformat": 4
 },
 "nbformat": 4,
 "nbformat_minor": 2
}
